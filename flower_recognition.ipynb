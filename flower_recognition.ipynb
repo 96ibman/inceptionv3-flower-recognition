{
 "cells": [
  {
   "cell_type": "code",
   "execution_count": 1,
   "id": "80b1ca54",
   "metadata": {},
   "outputs": [],
   "source": [
    "import tensorflow as tf\n",
    "from keras.models import Sequential\n",
    "from keras.layers import Dense, Activation, Flatten, Conv2D, GlobalAveragePooling2D, Dropout\n",
    "from keras.layers.convolutional import MaxPooling2D\n",
    "from keras.preprocessing.image import ImageDataGenerator\n",
    "import pandas as pd\n",
    "import numpy as np\n",
    "import random\n",
    "from tensorflow.keras.applications.inception_v3 import InceptionV3\n",
    "import matplotlib.pyplot as plt"
   ]
  },
  {
   "cell_type": "code",
   "execution_count": 2,
   "id": "80fbc831",
   "metadata": {},
   "outputs": [],
   "source": [
    "TRAIN_PATH = \"D:/flowers_recognition/Dataset/splits/train\"\n",
    "VAL_PATH = \"D:/flowers_recognition/Dataset/splits/val\"\n",
    "TEST_PATH = \"D:/flowers_recognition/Dataset/splits/test\""
   ]
  },
  {
   "cell_type": "code",
   "execution_count": 3,
   "id": "6268fac6",
   "metadata": {},
   "outputs": [],
   "source": [
    "IMAGE_SIZE = 250\n",
    "CHANNELS = 3\n",
    "BATCH_SIZE = 256\n",
    "EPOCHS = 20"
   ]
  },
  {
   "cell_type": "code",
   "execution_count": 4,
   "id": "6dfd386b",
   "metadata": {},
   "outputs": [],
   "source": [
    "train = ImageDataGenerator(rescale = 1./255,\n",
    "                           rotation_range = 25,\n",
    "                           shear_range = 0.5,\n",
    "                           zoom_range = 0.5,\n",
    "                           width_shift_range = 0.2,\n",
    "                           height_shift_range=0.2,\n",
    "                           horizontal_flip=True\n",
    "                          )\n",
    "\n",
    "validation = ImageDataGenerator(rescale = 1./255,\n",
    "                           rotation_range = 25,\n",
    "                           shear_range = 0.5,\n",
    "                           zoom_range = 0.5,\n",
    "                           width_shift_range = 0.2,\n",
    "                           height_shift_range=0.2,\n",
    "                           horizontal_flip=True\n",
    "                          )"
   ]
  },
  {
   "cell_type": "code",
   "execution_count": 5,
   "id": "99d73f4d",
   "metadata": {},
   "outputs": [
    {
     "name": "stdout",
     "output_type": "stream",
     "text": [
      "Found 3019 images belonging to 5 classes.\n"
     ]
    }
   ],
   "source": [
    "train_batches = train.flow_from_directory(TRAIN_PATH, \n",
    "                                       target_size=(IMAGE_SIZE,IMAGE_SIZE), \n",
    "                                       batch_size=BATCH_SIZE, \n",
    "                                       class_mode=\"categorical\",\n",
    "                                       seed=42)"
   ]
  },
  {
   "cell_type": "code",
   "execution_count": 6,
   "id": "2e2634e8",
   "metadata": {},
   "outputs": [
    {
     "name": "stdout",
     "output_type": "stream",
     "text": [
      "Found 860 images belonging to 5 classes.\n"
     ]
    }
   ],
   "source": [
    "val_batches = validation.flow_from_directory(VAL_PATH, \n",
    "                                       target_size=(IMAGE_SIZE,IMAGE_SIZE), \n",
    "                                       batch_size=BATCH_SIZE, \n",
    "                                       class_mode=\"categorical\",\n",
    "                                       seed=42)"
   ]
  },
  {
   "cell_type": "code",
   "execution_count": 7,
   "id": "5a316231",
   "metadata": {},
   "outputs": [
    {
     "data": {
      "text/plain": [
       "{'daisy': 0, 'dandelion': 1, 'rose': 2, 'sunflower': 3, 'tulip': 4}"
      ]
     },
     "execution_count": 7,
     "metadata": {},
     "output_type": "execute_result"
    }
   ],
   "source": [
    "train_batches.class_indices"
   ]
  },
  {
   "cell_type": "code",
   "execution_count": 8,
   "id": "9ec532fc",
   "metadata": {},
   "outputs": [],
   "source": [
    "IMG_SHAPE = (IMAGE_SIZE, IMAGE_SIZE, CHANNELS)"
   ]
  },
  {
   "cell_type": "code",
   "execution_count": 9,
   "id": "6e46a66f",
   "metadata": {},
   "outputs": [],
   "source": [
    "inception = InceptionV3(weights=\"imagenet\",\n",
    "                        include_top=False,\n",
    "                        input_shape=IMG_SHAPE)"
   ]
  },
  {
   "cell_type": "code",
   "execution_count": 10,
   "id": "b24985ae",
   "metadata": {},
   "outputs": [],
   "source": [
    "inception.trainable = False"
   ]
  },
  {
   "cell_type": "code",
   "execution_count": 11,
   "id": "2eb2f2d5",
   "metadata": {},
   "outputs": [],
   "source": [
    "model = Sequential([\n",
    "    inception,\n",
    "    GlobalAveragePooling2D(),\n",
    "    Dropout(0.2),\n",
    "    Dense(1024, activation='relu'),\n",
    "    Dense(5, activation='softmax')\n",
    "])"
   ]
  },
  {
   "cell_type": "code",
   "execution_count": 12,
   "id": "8c997abc",
   "metadata": {},
   "outputs": [],
   "source": [
    "model.compile(loss=\"categorical_crossentropy\",\n",
    "              optimizer='adam',\n",
    "              metrics=['accuracy'])"
   ]
  },
  {
   "cell_type": "code",
   "execution_count": 13,
   "id": "e7585423",
   "metadata": {},
   "outputs": [],
   "source": [
    "num_training = 3019"
   ]
  },
  {
   "cell_type": "code",
   "execution_count": 14,
   "id": "cf0841ea",
   "metadata": {},
   "outputs": [],
   "source": [
    "tf.random.set_seed(1)\n",
    "np.random.seed(1)\n",
    "random.seed(1)"
   ]
  },
  {
   "cell_type": "code",
   "execution_count": 15,
   "id": "4087ea42",
   "metadata": {},
   "outputs": [
    {
     "name": "stdout",
     "output_type": "stream",
     "text": [
      "Epoch 1/20\n",
      "11/11 [==============================] - 76s 6s/step - loss: 3.5942 - accuracy: 0.3677 - val_loss: 1.5289 - val_accuracy: 0.4651\n",
      "Epoch 2/20\n",
      "11/11 [==============================] - 41s 4s/step - loss: 1.0100 - accuracy: 0.6649 - val_loss: 0.7962 - val_accuracy: 0.7058\n",
      "Epoch 3/20\n",
      "11/11 [==============================] - 41s 4s/step - loss: 0.7055 - accuracy: 0.7394 - val_loss: 0.6134 - val_accuracy: 0.7895\n",
      "Epoch 4/20\n",
      "11/11 [==============================] - 41s 4s/step - loss: 0.5747 - accuracy: 0.7839 - val_loss: 0.5582 - val_accuracy: 0.8093\n",
      "Epoch 5/20\n",
      "11/11 [==============================] - 42s 4s/step - loss: 0.5184 - accuracy: 0.8183 - val_loss: 0.4998 - val_accuracy: 0.8233\n",
      "Epoch 6/20\n",
      "11/11 [==============================] - 41s 4s/step - loss: 0.4784 - accuracy: 0.8281 - val_loss: 0.4838 - val_accuracy: 0.8244\n",
      "Epoch 7/20\n",
      "11/11 [==============================] - 42s 4s/step - loss: 0.4640 - accuracy: 0.8306 - val_loss: 0.4624 - val_accuracy: 0.8384\n",
      "Epoch 8/20\n",
      "11/11 [==============================] - 41s 4s/step - loss: 0.4304 - accuracy: 0.8429 - val_loss: 0.4442 - val_accuracy: 0.8291\n",
      "Epoch 9/20\n",
      "11/11 [==============================] - 42s 4s/step - loss: 0.4393 - accuracy: 0.8379 - val_loss: 0.4646 - val_accuracy: 0.8453\n",
      "Epoch 10/20\n",
      "11/11 [==============================] - 41s 4s/step - loss: 0.4231 - accuracy: 0.8512 - val_loss: 0.4499 - val_accuracy: 0.8558\n",
      "Epoch 11/20\n",
      "11/11 [==============================] - 41s 4s/step - loss: 0.4051 - accuracy: 0.8523 - val_loss: 0.4176 - val_accuracy: 0.8419\n",
      "Epoch 12/20\n",
      "11/11 [==============================] - 42s 4s/step - loss: 0.3889 - accuracy: 0.8578 - val_loss: 0.4298 - val_accuracy: 0.8291\n",
      "Epoch 13/20\n",
      "11/11 [==============================] - 41s 4s/step - loss: 0.3714 - accuracy: 0.8704 - val_loss: 0.4099 - val_accuracy: 0.8465\n",
      "Epoch 14/20\n",
      "11/11 [==============================] - 41s 4s/step - loss: 0.3863 - accuracy: 0.8712 - val_loss: 0.4461 - val_accuracy: 0.8477\n",
      "Epoch 15/20\n",
      "11/11 [==============================] - 41s 4s/step - loss: 0.3886 - accuracy: 0.8625 - val_loss: 0.4113 - val_accuracy: 0.8547\n",
      "Epoch 16/20\n",
      "11/11 [==============================] - 42s 4s/step - loss: 0.3561 - accuracy: 0.8675 - val_loss: 0.3940 - val_accuracy: 0.8512\n",
      "Epoch 17/20\n",
      "11/11 [==============================] - 41s 4s/step - loss: 0.3627 - accuracy: 0.8733 - val_loss: 0.4697 - val_accuracy: 0.8314\n",
      "Epoch 18/20\n",
      "11/11 [==============================] - 41s 4s/step - loss: 0.3811 - accuracy: 0.8578 - val_loss: 0.4307 - val_accuracy: 0.8430\n",
      "Epoch 19/20\n",
      "11/11 [==============================] - 41s 4s/step - loss: 0.3692 - accuracy: 0.8693 - val_loss: 0.3765 - val_accuracy: 0.8616\n",
      "Epoch 20/20\n",
      "11/11 [==============================] - 41s 4s/step - loss: 0.3307 - accuracy: 0.8730 - val_loss: 0.4331 - val_accuracy: 0.8477\n"
     ]
    }
   ],
   "source": [
    "history = model.fit(train_batches,\n",
    "                    steps_per_epoch = num_training//BATCH_SIZE,\n",
    "                    batch_size = BATCH_SIZE,\n",
    "                    epochs = EPOCHS,\n",
    "                    validation_data = val_batches\n",
    "                   )"
   ]
  },
  {
   "cell_type": "code",
   "execution_count": 16,
   "id": "4a9a1ce6",
   "metadata": {},
   "outputs": [
    {
     "data": {
      "image/png": "[encoded data removed]",
      "text/plain": [
       "<Figure size 432x288 with 1 Axes>"
      ]
     },
     "metadata": {
      "needs_background": "light"
     },
     "output_type": "display_data"
    }
   ],
   "source": [
    "loss = history.history['loss']\n",
    "val_loss = history.history['val_loss']\n",
    "\n",
    "plt.plot(range(EPOCHS), loss, label=\"Training Loss\")\n",
    "plt.plot(range(EPOCHS), val_loss, label=\"Validation Loss\")\n",
    "plt.legend()\n",
    "plt.title(\"Training and Validaiton Loss\")\n",
    "plt.show()"
   ]
  },
  {
   "cell_type": "code",
   "execution_count": 17,
   "id": "49363a2a",
   "metadata": {},
   "outputs": [
    {
     "name": "stdout",
     "output_type": "stream",
     "text": [
      "Found 438 images belonging to 5 classes.\n"
     ]
    }
   ],
   "source": [
    "testing = ImageDataGenerator(rescale = 1./255)\n",
    "test_batches = testing.flow_from_directory(TEST_PATH, \n",
    "                                       target_size=(IMAGE_SIZE,IMAGE_SIZE), \n",
    "                                       batch_size=BATCH_SIZE, \n",
    "                                       class_mode=\"categorical\",\n",
    "                                       seed=42)"
   ]
  },
  {
   "cell_type": "code",
   "execution_count": 18,
   "id": "ef92e598",
   "metadata": {},
   "outputs": [
    {
     "name": "stdout",
     "output_type": "stream",
     "text": [
      "2/2 [==============================] - 6s 5s/step - loss: 0.3177 - accuracy: 0.8813\n",
      "Test loss: 0.31772616505622864\n",
      "Test accuracy: 0.8812785148620605\n"
     ]
    }
   ],
   "source": [
    "results = model.evaluate(test_batches)\n",
    "print('Test loss:', results[0])\n",
    "print('Test accuracy:', results[1])"
   ]
  }
 ],
 "metadata": {
  "kernelspec": {
   "display_name": "python 3.9 (tensorflow)",
   "language": "python",
   "name": "base"
  },
  "language_info": {
   "codemirror_mode": {
    "name": "ipython",
    "version": 3
   },
   "file_extension": ".py",
   "mimetype": "text/x-python",
   "name": "python",
   "nbconvert_exporter": "python",
   "pygments_lexer": "ipython3",
   "version": "3.9.12"
  }
 },
 "nbformat": 4,
 "nbformat_minor": 5
}
